{
 "cells": [
  {
   "cell_type": "code",
   "execution_count": 1,
   "id": "b7cbb23a",
   "metadata": {
    "_cell_guid": "b1076dfc-b9ad-4769-8c92-a6c4dae69d19",
    "_uuid": "8f2839f25d086af736a60e9eeb907d3b93b6e0e5",
    "execution": {
     "iopub.execute_input": "2023-03-12T11:45:16.513948Z",
     "iopub.status.busy": "2023-03-12T11:45:16.513533Z",
     "iopub.status.idle": "2023-03-12T11:45:16.527896Z",
     "shell.execute_reply": "2023-03-12T11:45:16.526630Z"
    },
    "papermill": {
     "duration": 0.025969,
     "end_time": "2023-03-12T11:45:16.531453",
     "exception": false,
     "start_time": "2023-03-12T11:45:16.505484",
     "status": "completed"
    },
    "tags": []
   },
   "outputs": [
    {
     "name": "stdout",
     "output_type": "stream",
     "text": [
      "/kaggle/input/nlp-getting-started/sample_submission.csv\n",
      "/kaggle/input/nlp-getting-started/train.csv\n",
      "/kaggle/input/nlp-getting-started/test.csv\n"
     ]
    }
   ],
   "source": [
    "# This Python 3 environment comes with many helpful analytics libraries installed\n",
    "# It is defined by the kaggle/python Docker image: https://github.com/kaggle/docker-python\n",
    "# For example, here's several helpful packages to load\n",
    "\n",
    "import numpy as np # linear algebra\n",
    "import pandas as pd # data processing, CSV file I/O (e.g. pd.read_csv)\n",
    "\n",
    "# Input data files are available in the read-only \"../input/\" directory\n",
    "# For example, running this (by clicking run or pressing Shift+Enter) will list all files under the input directory\n",
    "\n",
    "import os\n",
    "for dirname, _, filenames in os.walk('/kaggle/input'):\n",
    "    for filename in filenames:\n",
    "        print(os.path.join(dirname, filename))\n",
    "\n",
    "# You can write up to 20GB to the current directory (/kaggle/working/) that gets preserved as output when you create a version using \"Save & Run All\" \n",
    "# You can also write temporary files to /kaggle/temp/, but they won't be saved outside of the current session"
   ]
  },
  {
   "cell_type": "code",
   "execution_count": 2,
   "id": "fb131798",
   "metadata": {
    "execution": {
     "iopub.execute_input": "2023-03-12T11:45:16.545024Z",
     "iopub.status.busy": "2023-03-12T11:45:16.543762Z",
     "iopub.status.idle": "2023-03-12T11:45:16.620866Z",
     "shell.execute_reply": "2023-03-12T11:45:16.619103Z"
    },
    "papermill": {
     "duration": 0.086048,
     "end_time": "2023-03-12T11:45:16.623633",
     "exception": false,
     "start_time": "2023-03-12T11:45:16.537585",
     "status": "completed"
    },
    "tags": []
   },
   "outputs": [
    {
     "data": {
      "text/html": [
       "<div>\n",
       "<style scoped>\n",
       "    .dataframe tbody tr th:only-of-type {\n",
       "        vertical-align: middle;\n",
       "    }\n",
       "\n",
       "    .dataframe tbody tr th {\n",
       "        vertical-align: top;\n",
       "    }\n",
       "\n",
       "    .dataframe thead th {\n",
       "        text-align: right;\n",
       "    }\n",
       "</style>\n",
       "<table border=\"1\" class=\"dataframe\">\n",
       "  <thead>\n",
       "    <tr style=\"text-align: right;\">\n",
       "      <th></th>\n",
       "      <th>id</th>\n",
       "      <th>keyword</th>\n",
       "      <th>location</th>\n",
       "      <th>text</th>\n",
       "      <th>target</th>\n",
       "    </tr>\n",
       "  </thead>\n",
       "  <tbody>\n",
       "    <tr>\n",
       "      <th>0</th>\n",
       "      <td>1</td>\n",
       "      <td>NaN</td>\n",
       "      <td>NaN</td>\n",
       "      <td>Our Deeds are the Reason of this #earthquake M...</td>\n",
       "      <td>1</td>\n",
       "    </tr>\n",
       "    <tr>\n",
       "      <th>1</th>\n",
       "      <td>4</td>\n",
       "      <td>NaN</td>\n",
       "      <td>NaN</td>\n",
       "      <td>Forest fire near La Ronge Sask. Canada</td>\n",
       "      <td>1</td>\n",
       "    </tr>\n",
       "    <tr>\n",
       "      <th>2</th>\n",
       "      <td>5</td>\n",
       "      <td>NaN</td>\n",
       "      <td>NaN</td>\n",
       "      <td>All residents asked to 'shelter in place' are ...</td>\n",
       "      <td>1</td>\n",
       "    </tr>\n",
       "    <tr>\n",
       "      <th>3</th>\n",
       "      <td>6</td>\n",
       "      <td>NaN</td>\n",
       "      <td>NaN</td>\n",
       "      <td>13,000 people receive #wildfires evacuation or...</td>\n",
       "      <td>1</td>\n",
       "    </tr>\n",
       "    <tr>\n",
       "      <th>4</th>\n",
       "      <td>7</td>\n",
       "      <td>NaN</td>\n",
       "      <td>NaN</td>\n",
       "      <td>Just got sent this photo from Ruby #Alaska as ...</td>\n",
       "      <td>1</td>\n",
       "    </tr>\n",
       "  </tbody>\n",
       "</table>\n",
       "</div>"
      ],
      "text/plain": [
       "   id keyword location                                               text  \\\n",
       "0   1     NaN      NaN  Our Deeds are the Reason of this #earthquake M...   \n",
       "1   4     NaN      NaN             Forest fire near La Ronge Sask. Canada   \n",
       "2   5     NaN      NaN  All residents asked to 'shelter in place' are ...   \n",
       "3   6     NaN      NaN  13,000 people receive #wildfires evacuation or...   \n",
       "4   7     NaN      NaN  Just got sent this photo from Ruby #Alaska as ...   \n",
       "\n",
       "   target  \n",
       "0       1  \n",
       "1       1  \n",
       "2       1  \n",
       "3       1  \n",
       "4       1  "
      ]
     },
     "execution_count": 2,
     "metadata": {},
     "output_type": "execute_result"
    }
   ],
   "source": [
    "#Load Dataset\n",
    "df=pd.read_csv('/kaggle/input/nlp-getting-started/train.csv')\n",
    "df.head()"
   ]
  },
  {
   "cell_type": "code",
   "execution_count": 3,
   "id": "60abd51f",
   "metadata": {
    "execution": {
     "iopub.execute_input": "2023-03-12T11:45:16.635923Z",
     "iopub.status.busy": "2023-03-12T11:45:16.635515Z",
     "iopub.status.idle": "2023-03-12T11:45:19.633704Z",
     "shell.execute_reply": "2023-03-12T11:45:19.632455Z"
    },
    "papermill": {
     "duration": 3.007965,
     "end_time": "2023-03-12T11:45:19.636981",
     "exception": false,
     "start_time": "2023-03-12T11:45:16.629016",
     "status": "completed"
    },
    "tags": []
   },
   "outputs": [
    {
     "name": "stdout",
     "output_type": "stream",
     "text": [
      "[nltk_data] Downloading package stopwords to /usr/share/nltk_data...\n",
      "[nltk_data]   Package stopwords is already up-to-date!\n",
      "[nltk_data] Downloading package punkt to /usr/share/nltk_data...\n",
      "[nltk_data]   Package punkt is already up-to-date!\n"
     ]
    }
   ],
   "source": [
    "import nltk\n",
    "import re\n",
    "from nltk.tokenize import word_tokenize\n",
    "from nltk.corpus import stopwords\n",
    "nltk.download('stopwords')\n",
    "nltk.download('punkt')\n",
    "stop_words = set(stopwords.words('english'))\n",
    "def tokenize_text(text):\n",
    "    text=text.lower()\n",
    "    text = re.sub(r'@\\w+', '', text) #remove @mentions\n",
    "    text = re.sub(r'[@\\.\\,\\!\\#\\$\\%\\&\\*\\+\\-\\/\\:\\;<\\=\\>\\?\\@\\[\\\\\\]\\^\\_\\`\\{\\|\\}\\~]+', '', text)\n",
    "    words = nltk.word_tokenize(text)\n",
    "    filtered_tokens = [word for word in words if not word in stop_words]\n",
    "    return filtered_tokens\n",
    "df['text'].fillna('')\n",
    "df['tokenized_text'] = df['text'].apply(tokenize_text)"
   ]
  },
  {
   "cell_type": "code",
   "execution_count": 4,
   "id": "94708aeb",
   "metadata": {
    "execution": {
     "iopub.execute_input": "2023-03-12T11:45:19.650292Z",
     "iopub.status.busy": "2023-03-12T11:45:19.649901Z",
     "iopub.status.idle": "2023-03-12T11:45:19.655138Z",
     "shell.execute_reply": "2023-03-12T11:45:19.653943Z"
    },
    "papermill": {
     "duration": 0.014323,
     "end_time": "2023-03-12T11:45:19.657444",
     "exception": false,
     "start_time": "2023-03-12T11:45:19.643121",
     "status": "completed"
    },
    "tags": []
   },
   "outputs": [],
   "source": [
    "from sklearn import feature_extraction, linear_model, model_selection, preprocessing\n",
    "from sklearn.model_selection import train_test_split\n",
    "from sklearn.feature_extraction.text import TfidfVectorizer"
   ]
  },
  {
   "cell_type": "code",
   "execution_count": 5,
   "id": "0dd3eb1c",
   "metadata": {
    "execution": {
     "iopub.execute_input": "2023-03-12T11:45:19.669795Z",
     "iopub.status.busy": "2023-03-12T11:45:19.669408Z",
     "iopub.status.idle": "2023-03-12T11:45:19.679866Z",
     "shell.execute_reply": "2023-03-12T11:45:19.678651Z"
    },
    "papermill": {
     "duration": 0.019614,
     "end_time": "2023-03-12T11:45:19.682280",
     "exception": false,
     "start_time": "2023-03-12T11:45:19.662666",
     "status": "completed"
    },
    "tags": []
   },
   "outputs": [],
   "source": [
    "y=df['target']\n",
    "X = df['tokenized_text'].apply(lambda x: ' '.join(x))\n"
   ]
  },
  {
   "cell_type": "code",
   "execution_count": 6,
   "id": "4ccd2639",
   "metadata": {
    "execution": {
     "iopub.execute_input": "2023-03-12T11:45:19.694832Z",
     "iopub.status.busy": "2023-03-12T11:45:19.694414Z",
     "iopub.status.idle": "2023-03-12T11:45:29.079432Z",
     "shell.execute_reply": "2023-03-12T11:45:29.078291Z"
    },
    "papermill": {
     "duration": 9.394816,
     "end_time": "2023-03-12T11:45:29.082305",
     "exception": false,
     "start_time": "2023-03-12T11:45:19.687489",
     "status": "completed"
    },
    "tags": []
   },
   "outputs": [],
   "source": [
    "max_len = 500\n",
    "from tensorflow.keras.preprocessing.sequence import pad_sequences\n",
    "from tensorflow.keras.preprocessing.text import one_hot\n",
    "\n",
    "vocab_size = 500\n",
    "encoded_docs = [one_hot(d, vocab_size) for d in X]\n",
    "encoded_docs = pad_sequences(encoded_docs, maxlen=max_len)"
   ]
  },
  {
   "cell_type": "code",
   "execution_count": 7,
   "id": "0b62c845",
   "metadata": {
    "execution": {
     "iopub.execute_input": "2023-03-12T11:45:29.095600Z",
     "iopub.status.busy": "2023-03-12T11:45:29.094789Z",
     "iopub.status.idle": "2023-03-12T11:45:29.112236Z",
     "shell.execute_reply": "2023-03-12T11:45:29.110966Z"
    },
    "papermill": {
     "duration": 0.027634,
     "end_time": "2023-03-12T11:45:29.115420",
     "exception": false,
     "start_time": "2023-03-12T11:45:29.087786",
     "status": "completed"
    },
    "tags": []
   },
   "outputs": [],
   "source": [
    "# split the data into train and test\n",
    "X_train, X_test, y_train, y_test = train_test_split(encoded_docs, y, test_size=0.2, random_state=1)\n"
   ]
  },
  {
   "cell_type": "code",
   "execution_count": 8,
   "id": "4004d647",
   "metadata": {
    "execution": {
     "iopub.execute_input": "2023-03-12T11:45:29.128009Z",
     "iopub.status.busy": "2023-03-12T11:45:29.127579Z",
     "iopub.status.idle": "2023-03-12T11:45:29.365248Z",
     "shell.execute_reply": "2023-03-12T11:45:29.364290Z"
    },
    "papermill": {
     "duration": 0.247188,
     "end_time": "2023-03-12T11:45:29.367892",
     "exception": false,
     "start_time": "2023-03-12T11:45:29.120704",
     "status": "completed"
    },
    "tags": []
   },
   "outputs": [],
   "source": [
    "from keras.models import Sequential\n",
    "from keras.layers import Embedding, Conv1D, GlobalMaxPooling1D, Dense\n",
    "from keras.layers import Dropout\n",
    "max_words = 500\n",
    "model = Sequential()\n",
    "model.add(Embedding(max_words, 512, input_length=max_len))\n",
    "model.add(Dropout(0.42))\n",
    "model.add(Conv1D(32, 4, activation='relu'))\n",
    "# model.add(Conv1D(32, 4, activation='relu'))\n",
    "# model.add(Dropout(0.01))\n",
    "# model.add(Conv1D(32, 4, activation='relu'))\n",
    "model.add(GlobalMaxPooling1D())\n",
    "model.add(Dense(1, activation='sigmoid'))\n",
    "\n",
    "model.compile(optimizer='adam', loss='binary_crossentropy', metrics=['accuracy'])"
   ]
  },
  {
   "cell_type": "code",
   "execution_count": 9,
   "id": "69990d20",
   "metadata": {
    "execution": {
     "iopub.execute_input": "2023-03-12T11:45:29.380271Z",
     "iopub.status.busy": "2023-03-12T11:45:29.379874Z",
     "iopub.status.idle": "2023-03-12T11:50:56.526085Z",
     "shell.execute_reply": "2023-03-12T11:50:56.525185Z"
    },
    "papermill": {
     "duration": 327.156049,
     "end_time": "2023-03-12T11:50:56.529187",
     "exception": false,
     "start_time": "2023-03-12T11:45:29.373138",
     "status": "completed"
    },
    "tags": []
   },
   "outputs": [
    {
     "name": "stdout",
     "output_type": "stream",
     "text": [
      "24/24 [==============================] - 52s 2s/step - loss: 0.6711 - accuracy: 0.5816 - val_loss: 0.6677 - val_accuracy: 0.6303\n",
      "48/48 [==============================] - 50s 1s/step - loss: 0.6045 - accuracy: 0.6924 - val_loss: 0.5870 - val_accuracy: 0.6993\n",
      "96/96 [==============================] - 52s 538ms/step - loss: 0.5342 - accuracy: 0.7414 - val_loss: 0.5813 - val_accuracy: 0.7026\n",
      "Epoch 1/3\n",
      "381/381 [==============================] - 47s 123ms/step - loss: 0.4995 - accuracy: 0.7583 - val_loss: 0.5679 - val_accuracy: 0.7203\n",
      "Epoch 2/3\n",
      "381/381 [==============================] - 47s 124ms/step - loss: 0.4122 - accuracy: 0.8212 - val_loss: 0.5971 - val_accuracy: 0.7032\n",
      "Epoch 3/3\n",
      "381/381 [==============================] - 47s 124ms/step - loss: 0.3391 - accuracy: 0.8665 - val_loss: 0.6349 - val_accuracy: 0.7032\n"
     ]
    },
    {
     "data": {
      "text/plain": [
       "<keras.callbacks.History at 0x7f2664fc6f10>"
      ]
     },
     "execution_count": 9,
     "metadata": {},
     "output_type": "execute_result"
    }
   ],
   "source": [
    "model.fit(X_train, y_train, validation_data=(X_test, y_test), epochs=1, batch_size=256)\n",
    "model.fit(X_train, y_train, validation_data=(X_test, y_test), epochs=1, batch_size=128)\n",
    "model.fit(X_train, y_train, validation_data=(X_test, y_test), epochs=1, batch_size=64)\n",
    "model.fit(X_train, y_train, validation_data=(X_test, y_test), epochs=3, batch_size=16)\n",
    "# model.fit(X_train, y_train, validation_data=(X_test, y_test), epochs=3, batch_size=256)"
   ]
  },
  {
   "cell_type": "code",
   "execution_count": 10,
   "id": "8824162e",
   "metadata": {
    "execution": {
     "iopub.execute_input": "2023-03-12T11:50:56.704643Z",
     "iopub.status.busy": "2023-03-12T11:50:56.704124Z",
     "iopub.status.idle": "2023-03-12T11:50:57.250429Z",
     "shell.execute_reply": "2023-03-12T11:50:57.249161Z"
    },
    "papermill": {
     "duration": 0.637088,
     "end_time": "2023-03-12T11:50:57.253398",
     "exception": false,
     "start_time": "2023-03-12T11:50:56.616310",
     "status": "completed"
    },
    "tags": []
   },
   "outputs": [],
   "source": [
    "df_test=pd.read_csv('/kaggle/input/nlp-getting-started/test.csv')\n",
    "df_test['text'].fillna('')\n",
    "df_test['tokenized_text'] = df_test['text'].apply(tokenize_text)"
   ]
  },
  {
   "cell_type": "code",
   "execution_count": 11,
   "id": "102b036e",
   "metadata": {
    "execution": {
     "iopub.execute_input": "2023-03-12T11:50:57.429316Z",
     "iopub.status.busy": "2023-03-12T11:50:57.428881Z",
     "iopub.status.idle": "2023-03-12T11:50:57.437443Z",
     "shell.execute_reply": "2023-03-12T11:50:57.436539Z"
    },
    "papermill": {
     "duration": 0.099124,
     "end_time": "2023-03-12T11:50:57.439636",
     "exception": false,
     "start_time": "2023-03-12T11:50:57.340512",
     "status": "completed"
    },
    "tags": []
   },
   "outputs": [],
   "source": [
    "X = df_test['tokenized_text'].apply(lambda x: ' '.join(x))"
   ]
  },
  {
   "cell_type": "code",
   "execution_count": 12,
   "id": "10c940e5",
   "metadata": {
    "execution": {
     "iopub.execute_input": "2023-03-12T11:50:57.616571Z",
     "iopub.status.busy": "2023-03-12T11:50:57.615772Z",
     "iopub.status.idle": "2023-03-12T11:50:57.686007Z",
     "shell.execute_reply": "2023-03-12T11:50:57.684755Z"
    },
    "papermill": {
     "duration": 0.161675,
     "end_time": "2023-03-12T11:50:57.688916",
     "exception": false,
     "start_time": "2023-03-12T11:50:57.527241",
     "status": "completed"
    },
    "tags": []
   },
   "outputs": [],
   "source": [
    "encoded_docs = [one_hot(d, vocab_size) for d in X]\n",
    "encoded_docs = pad_sequences(encoded_docs, maxlen=max_len)"
   ]
  },
  {
   "cell_type": "code",
   "execution_count": 13,
   "id": "7f6351de",
   "metadata": {
    "execution": {
     "iopub.execute_input": "2023-03-12T11:50:57.865321Z",
     "iopub.status.busy": "2023-03-12T11:50:57.864848Z",
     "iopub.status.idle": "2023-03-12T11:51:01.501733Z",
     "shell.execute_reply": "2023-03-12T11:51:01.500411Z"
    },
    "papermill": {
     "duration": 3.728647,
     "end_time": "2023-03-12T11:51:01.505211",
     "exception": false,
     "start_time": "2023-03-12T11:50:57.776564",
     "status": "completed"
    },
    "tags": []
   },
   "outputs": [
    {
     "name": "stdout",
     "output_type": "stream",
     "text": [
      "102/102 [==============================] - 4s 34ms/step\n"
     ]
    }
   ],
   "source": [
    "model_predict=model.predict(encoded_docs)"
   ]
  },
  {
   "cell_type": "code",
   "execution_count": 14,
   "id": "9b6f328d",
   "metadata": {
    "execution": {
     "iopub.execute_input": "2023-03-12T11:51:01.696280Z",
     "iopub.status.busy": "2023-03-12T11:51:01.695352Z",
     "iopub.status.idle": "2023-03-12T11:51:01.703294Z",
     "shell.execute_reply": "2023-03-12T11:51:01.702004Z"
    },
    "papermill": {
     "duration": 0.101853,
     "end_time": "2023-03-12T11:51:01.705706",
     "exception": false,
     "start_time": "2023-03-12T11:51:01.603853",
     "status": "completed"
    },
    "tags": []
   },
   "outputs": [
    {
     "data": {
      "text/plain": [
       "array([[0.573036  ],\n",
       "       [0.96107256],\n",
       "       [0.5990208 ],\n",
       "       ...,\n",
       "       [0.9080628 ],\n",
       "       [0.7557046 ],\n",
       "       [0.5978195 ]], dtype=float32)"
      ]
     },
     "execution_count": 14,
     "metadata": {},
     "output_type": "execute_result"
    }
   ],
   "source": [
    "model_predict"
   ]
  },
  {
   "cell_type": "code",
   "execution_count": 15,
   "id": "3476d936",
   "metadata": {
    "execution": {
     "iopub.execute_input": "2023-03-12T11:51:01.888934Z",
     "iopub.status.busy": "2023-03-12T11:51:01.888129Z",
     "iopub.status.idle": "2023-03-12T11:51:01.898309Z",
     "shell.execute_reply": "2023-03-12T11:51:01.896770Z"
    },
    "papermill": {
     "duration": 0.105686,
     "end_time": "2023-03-12T11:51:01.901261",
     "exception": false,
     "start_time": "2023-03-12T11:51:01.795575",
     "status": "completed"
    },
    "tags": []
   },
   "outputs": [],
   "source": [
    "# result=pd.DataFrame({'id': df_test['id'], 'target': [model_predict]})\n",
    "\n",
    "res = pd.DataFrame(model_predict, columns=[\"target\"])\n",
    "res['id']=df_test['id']\n",
    "\n",
    "\n",
    "def convert_to_binary(x):\n",
    "    if x >= 0.5:\n",
    "        return 1\n",
    "    else:\n",
    "        return 0\n",
    "\n",
    "res['target']=res['target'].apply(convert_to_binary)"
   ]
  },
  {
   "cell_type": "code",
   "execution_count": 16,
   "id": "de5314df",
   "metadata": {
    "execution": {
     "iopub.execute_input": "2023-03-12T11:51:02.087296Z",
     "iopub.status.busy": "2023-03-12T11:51:02.086865Z",
     "iopub.status.idle": "2023-03-12T11:51:02.097780Z",
     "shell.execute_reply": "2023-03-12T11:51:02.096597Z"
    },
    "papermill": {
     "duration": 0.10665,
     "end_time": "2023-03-12T11:51:02.100512",
     "exception": false,
     "start_time": "2023-03-12T11:51:01.993862",
     "status": "completed"
    },
    "tags": []
   },
   "outputs": [
    {
     "data": {
      "text/html": [
       "<div>\n",
       "<style scoped>\n",
       "    .dataframe tbody tr th:only-of-type {\n",
       "        vertical-align: middle;\n",
       "    }\n",
       "\n",
       "    .dataframe tbody tr th {\n",
       "        vertical-align: top;\n",
       "    }\n",
       "\n",
       "    .dataframe thead th {\n",
       "        text-align: right;\n",
       "    }\n",
       "</style>\n",
       "<table border=\"1\" class=\"dataframe\">\n",
       "  <thead>\n",
       "    <tr style=\"text-align: right;\">\n",
       "      <th></th>\n",
       "      <th>target</th>\n",
       "      <th>id</th>\n",
       "    </tr>\n",
       "  </thead>\n",
       "  <tbody>\n",
       "    <tr>\n",
       "      <th>0</th>\n",
       "      <td>1</td>\n",
       "      <td>0</td>\n",
       "    </tr>\n",
       "    <tr>\n",
       "      <th>1</th>\n",
       "      <td>1</td>\n",
       "      <td>2</td>\n",
       "    </tr>\n",
       "    <tr>\n",
       "      <th>2</th>\n",
       "      <td>1</td>\n",
       "      <td>3</td>\n",
       "    </tr>\n",
       "    <tr>\n",
       "      <th>3</th>\n",
       "      <td>0</td>\n",
       "      <td>9</td>\n",
       "    </tr>\n",
       "    <tr>\n",
       "      <th>4</th>\n",
       "      <td>1</td>\n",
       "      <td>11</td>\n",
       "    </tr>\n",
       "  </tbody>\n",
       "</table>\n",
       "</div>"
      ],
      "text/plain": [
       "   target  id\n",
       "0       1   0\n",
       "1       1   2\n",
       "2       1   3\n",
       "3       0   9\n",
       "4       1  11"
      ]
     },
     "execution_count": 16,
     "metadata": {},
     "output_type": "execute_result"
    }
   ],
   "source": [
    "res.head()"
   ]
  },
  {
   "cell_type": "code",
   "execution_count": 17,
   "id": "0f3c929c",
   "metadata": {
    "execution": {
     "iopub.execute_input": "2023-03-12T11:51:02.284025Z",
     "iopub.status.busy": "2023-03-12T11:51:02.283628Z",
     "iopub.status.idle": "2023-03-12T11:51:02.296542Z",
     "shell.execute_reply": "2023-03-12T11:51:02.295651Z"
    },
    "papermill": {
     "duration": 0.106933,
     "end_time": "2023-03-12T11:51:02.299087",
     "exception": false,
     "start_time": "2023-03-12T11:51:02.192154",
     "status": "completed"
    },
    "tags": []
   },
   "outputs": [],
   "source": [
    "res.to_csv('/kaggle/working/submissions_CNN.csv',index=False)"
   ]
  }
 ],
 "metadata": {
  "kernelspec": {
   "display_name": "Python 3",
   "language": "python",
   "name": "python3"
  },
  "language_info": {
   "codemirror_mode": {
    "name": "ipython",
    "version": 3
   },
   "file_extension": ".py",
   "mimetype": "text/x-python",
   "name": "python",
   "nbconvert_exporter": "python",
   "pygments_lexer": "ipython3",
   "version": "3.7.12"
  },
  "papermill": {
   "default_parameters": {},
   "duration": 358.93866,
   "end_time": "2023-03-12T11:51:05.159382",
   "environment_variables": {},
   "exception": null,
   "input_path": "__notebook__.ipynb",
   "output_path": "__notebook__.ipynb",
   "parameters": {},
   "start_time": "2023-03-12T11:45:06.220722",
   "version": "2.4.0"
  }
 },
 "nbformat": 4,
 "nbformat_minor": 5
}
