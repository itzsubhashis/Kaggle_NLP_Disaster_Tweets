{
 "cells": [
  {
   "cell_type": "code",
   "execution_count": 1,
   "id": "9a477097",
   "metadata": {
    "_cell_guid": "b1076dfc-b9ad-4769-8c92-a6c4dae69d19",
    "_uuid": "8f2839f25d086af736a60e9eeb907d3b93b6e0e5",
    "execution": {
     "iopub.execute_input": "2023-03-12T11:43:32.018562Z",
     "iopub.status.busy": "2023-03-12T11:43:32.017709Z",
     "iopub.status.idle": "2023-03-12T11:43:32.031488Z",
     "shell.execute_reply": "2023-03-12T11:43:32.030102Z"
    },
    "papermill": {
     "duration": 0.024966,
     "end_time": "2023-03-12T11:43:32.034696",
     "exception": false,
     "start_time": "2023-03-12T11:43:32.009730",
     "status": "completed"
    },
    "tags": []
   },
   "outputs": [
    {
     "name": "stdout",
     "output_type": "stream",
     "text": [
      "/kaggle/input/nlp-getting-started/sample_submission.csv\n",
      "/kaggle/input/nlp-getting-started/train.csv\n",
      "/kaggle/input/nlp-getting-started/test.csv\n"
     ]
    }
   ],
   "source": [
    "# This Python 3 environment comes with many helpful analytics libraries installed\n",
    "# It is defined by the kaggle/python Docker image: https://github.com/kaggle/docker-python\n",
    "# For example, here's several helpful packages to load\n",
    "\n",
    "import numpy as np # linear algebra\n",
    "import pandas as pd # data processing, CSV file I/O (e.g. pd.read_csv)\n",
    "\n",
    "# Input data files are available in the read-only \"../input/\" directory\n",
    "# For example, running this (by clicking run or pressing Shift+Enter) will list all files under the input directory\n",
    "\n",
    "import os\n",
    "for dirname, _, filenames in os.walk('/kaggle/input'):\n",
    "    for filename in filenames:\n",
    "        print(os.path.join(dirname, filename))\n",
    "\n",
    "# You can write up to 20GB to the current directory (/kaggle/working/) that gets preserved as output when you create a version using \"Save & Run All\" \n",
    "# You can also write temporary files to /kaggle/temp/, but they won't be saved outside of the current session"
   ]
  },
  {
   "cell_type": "code",
   "execution_count": 2,
   "id": "0f768d71",
   "metadata": {
    "execution": {
     "iopub.execute_input": "2023-03-12T11:43:32.047352Z",
     "iopub.status.busy": "2023-03-12T11:43:32.046910Z",
     "iopub.status.idle": "2023-03-12T11:43:32.120175Z",
     "shell.execute_reply": "2023-03-12T11:43:32.118867Z"
    },
    "papermill": {
     "duration": 0.082117,
     "end_time": "2023-03-12T11:43:32.122672",
     "exception": false,
     "start_time": "2023-03-12T11:43:32.040555",
     "status": "completed"
    },
    "tags": []
   },
   "outputs": [
    {
     "data": {
      "text/html": [
       "<div>\n",
       "<style scoped>\n",
       "    .dataframe tbody tr th:only-of-type {\n",
       "        vertical-align: middle;\n",
       "    }\n",
       "\n",
       "    .dataframe tbody tr th {\n",
       "        vertical-align: top;\n",
       "    }\n",
       "\n",
       "    .dataframe thead th {\n",
       "        text-align: right;\n",
       "    }\n",
       "</style>\n",
       "<table border=\"1\" class=\"dataframe\">\n",
       "  <thead>\n",
       "    <tr style=\"text-align: right;\">\n",
       "      <th></th>\n",
       "      <th>id</th>\n",
       "      <th>keyword</th>\n",
       "      <th>location</th>\n",
       "      <th>text</th>\n",
       "      <th>target</th>\n",
       "    </tr>\n",
       "  </thead>\n",
       "  <tbody>\n",
       "    <tr>\n",
       "      <th>0</th>\n",
       "      <td>1</td>\n",
       "      <td>NaN</td>\n",
       "      <td>NaN</td>\n",
       "      <td>Our Deeds are the Reason of this #earthquake M...</td>\n",
       "      <td>1</td>\n",
       "    </tr>\n",
       "    <tr>\n",
       "      <th>1</th>\n",
       "      <td>4</td>\n",
       "      <td>NaN</td>\n",
       "      <td>NaN</td>\n",
       "      <td>Forest fire near La Ronge Sask. Canada</td>\n",
       "      <td>1</td>\n",
       "    </tr>\n",
       "    <tr>\n",
       "      <th>2</th>\n",
       "      <td>5</td>\n",
       "      <td>NaN</td>\n",
       "      <td>NaN</td>\n",
       "      <td>All residents asked to 'shelter in place' are ...</td>\n",
       "      <td>1</td>\n",
       "    </tr>\n",
       "    <tr>\n",
       "      <th>3</th>\n",
       "      <td>6</td>\n",
       "      <td>NaN</td>\n",
       "      <td>NaN</td>\n",
       "      <td>13,000 people receive #wildfires evacuation or...</td>\n",
       "      <td>1</td>\n",
       "    </tr>\n",
       "    <tr>\n",
       "      <th>4</th>\n",
       "      <td>7</td>\n",
       "      <td>NaN</td>\n",
       "      <td>NaN</td>\n",
       "      <td>Just got sent this photo from Ruby #Alaska as ...</td>\n",
       "      <td>1</td>\n",
       "    </tr>\n",
       "  </tbody>\n",
       "</table>\n",
       "</div>"
      ],
      "text/plain": [
       "   id keyword location                                               text  \\\n",
       "0   1     NaN      NaN  Our Deeds are the Reason of this #earthquake M...   \n",
       "1   4     NaN      NaN             Forest fire near La Ronge Sask. Canada   \n",
       "2   5     NaN      NaN  All residents asked to 'shelter in place' are ...   \n",
       "3   6     NaN      NaN  13,000 people receive #wildfires evacuation or...   \n",
       "4   7     NaN      NaN  Just got sent this photo from Ruby #Alaska as ...   \n",
       "\n",
       "   target  \n",
       "0       1  \n",
       "1       1  \n",
       "2       1  \n",
       "3       1  \n",
       "4       1  "
      ]
     },
     "execution_count": 2,
     "metadata": {},
     "output_type": "execute_result"
    }
   ],
   "source": [
    "#Load Dataset\n",
    "df=pd.read_csv('/kaggle/input/nlp-getting-started/train.csv')\n",
    "df.head()"
   ]
  },
  {
   "cell_type": "code",
   "execution_count": 3,
   "id": "afbc415d",
   "metadata": {
    "execution": {
     "iopub.execute_input": "2023-03-12T11:43:32.135388Z",
     "iopub.status.busy": "2023-03-12T11:43:32.134668Z",
     "iopub.status.idle": "2023-03-12T11:43:34.927945Z",
     "shell.execute_reply": "2023-03-12T11:43:34.926606Z"
    },
    "papermill": {
     "duration": 2.803123,
     "end_time": "2023-03-12T11:43:34.931010",
     "exception": false,
     "start_time": "2023-03-12T11:43:32.127887",
     "status": "completed"
    },
    "tags": []
   },
   "outputs": [
    {
     "name": "stdout",
     "output_type": "stream",
     "text": [
      "[nltk_data] Downloading package stopwords to /usr/share/nltk_data...\n",
      "[nltk_data]   Package stopwords is already up-to-date!\n",
      "[nltk_data] Downloading package punkt to /usr/share/nltk_data...\n",
      "[nltk_data]   Package punkt is already up-to-date!\n"
     ]
    }
   ],
   "source": [
    "import nltk\n",
    "import re\n",
    "from nltk.tokenize import word_tokenize\n",
    "from nltk.corpus import stopwords\n",
    "nltk.download('stopwords')\n",
    "nltk.download('punkt')\n",
    "stop_words = set(stopwords.words('english'))\n",
    "def tokenize_text(text):\n",
    "    text=text.lower()\n",
    "    text = re.sub(r'@\\w+', '', text) #remove @mentions\n",
    "    text = re.sub(r'[@\\.\\,\\!\\#\\$\\%\\&\\*\\+\\-\\/\\:\\;<\\=\\>\\?\\@\\[\\\\\\]\\^\\_\\`\\{\\|\\}\\~]+', '', text)\n",
    "    words = nltk.word_tokenize(text)\n",
    "    filtered_tokens = [word for word in words if not word in stop_words]\n",
    "    return filtered_tokens\n",
    "df['text'].fillna('')\n",
    "df['tokenized_text'] = df['text'].apply(tokenize_text)"
   ]
  },
  {
   "cell_type": "code",
   "execution_count": 4,
   "id": "c21bf451",
   "metadata": {
    "execution": {
     "iopub.execute_input": "2023-03-12T11:43:34.944065Z",
     "iopub.status.busy": "2023-03-12T11:43:34.943010Z",
     "iopub.status.idle": "2023-03-12T11:43:34.948785Z",
     "shell.execute_reply": "2023-03-12T11:43:34.947822Z"
    },
    "papermill": {
     "duration": 0.014568,
     "end_time": "2023-03-12T11:43:34.950966",
     "exception": false,
     "start_time": "2023-03-12T11:43:34.936398",
     "status": "completed"
    },
    "tags": []
   },
   "outputs": [],
   "source": [
    "from sklearn import feature_extraction, linear_model, model_selection, preprocessing\n",
    "from sklearn.model_selection import train_test_split\n",
    "from sklearn.feature_extraction.text import TfidfVectorizer"
   ]
  },
  {
   "cell_type": "code",
   "execution_count": 5,
   "id": "11a46f83",
   "metadata": {
    "execution": {
     "iopub.execute_input": "2023-03-12T11:43:34.963980Z",
     "iopub.status.busy": "2023-03-12T11:43:34.963085Z",
     "iopub.status.idle": "2023-03-12T11:43:34.974443Z",
     "shell.execute_reply": "2023-03-12T11:43:34.973183Z"
    },
    "papermill": {
     "duration": 0.020602,
     "end_time": "2023-03-12T11:43:34.976995",
     "exception": false,
     "start_time": "2023-03-12T11:43:34.956393",
     "status": "completed"
    },
    "tags": []
   },
   "outputs": [],
   "source": [
    "y=df['target']\n",
    "X = df['tokenized_text'].apply(lambda x: ' '.join(x))\n"
   ]
  },
  {
   "cell_type": "code",
   "execution_count": 6,
   "id": "8b211576",
   "metadata": {
    "execution": {
     "iopub.execute_input": "2023-03-12T11:43:34.989477Z",
     "iopub.status.busy": "2023-03-12T11:43:34.989010Z",
     "iopub.status.idle": "2023-03-12T11:43:43.414407Z",
     "shell.execute_reply": "2023-03-12T11:43:43.412977Z"
    },
    "papermill": {
     "duration": 8.435246,
     "end_time": "2023-03-12T11:43:43.417579",
     "exception": false,
     "start_time": "2023-03-12T11:43:34.982333",
     "status": "completed"
    },
    "tags": []
   },
   "outputs": [],
   "source": [
    "max_len = 500\n",
    "from tensorflow.keras.preprocessing.sequence import pad_sequences\n",
    "from tensorflow.keras.preprocessing.text import one_hot\n",
    "\n",
    "vocab_size = 500\n",
    "encoded_docs = [one_hot(d, vocab_size) for d in X]\n",
    "encoded_docs = pad_sequences(encoded_docs, maxlen=max_len)"
   ]
  },
  {
   "cell_type": "code",
   "execution_count": 7,
   "id": "41bee796",
   "metadata": {
    "execution": {
     "iopub.execute_input": "2023-03-12T11:43:43.431077Z",
     "iopub.status.busy": "2023-03-12T11:43:43.429643Z",
     "iopub.status.idle": "2023-03-12T11:43:43.449257Z",
     "shell.execute_reply": "2023-03-12T11:43:43.447967Z"
    },
    "papermill": {
     "duration": 0.029198,
     "end_time": "2023-03-12T11:43:43.452086",
     "exception": false,
     "start_time": "2023-03-12T11:43:43.422888",
     "status": "completed"
    },
    "tags": []
   },
   "outputs": [],
   "source": [
    "# split the data into train and test\n",
    "X_train, X_test, y_train, y_test = train_test_split(encoded_docs, y, test_size=0.2, random_state=1)\n"
   ]
  },
  {
   "cell_type": "code",
   "execution_count": 8,
   "id": "fd19a806",
   "metadata": {
    "execution": {
     "iopub.execute_input": "2023-03-12T11:43:43.465300Z",
     "iopub.status.busy": "2023-03-12T11:43:43.464192Z",
     "iopub.status.idle": "2023-03-12T11:43:43.691832Z",
     "shell.execute_reply": "2023-03-12T11:43:43.690597Z"
    },
    "papermill": {
     "duration": 0.237349,
     "end_time": "2023-03-12T11:43:43.694786",
     "exception": false,
     "start_time": "2023-03-12T11:43:43.457437",
     "status": "completed"
    },
    "tags": []
   },
   "outputs": [],
   "source": [
    "from keras.models import Sequential\n",
    "from keras.layers import Embedding, Conv1D, GlobalMaxPooling1D, Dense\n",
    "from keras.layers import Dropout\n",
    "max_words = 500\n",
    "model = Sequential()\n",
    "model.add(Embedding(max_words, 512, input_length=max_len))\n",
    "model.add(Dropout(0.42))\n",
    "model.add(Conv1D(32, 4, activation='relu'))\n",
    "# model.add(Conv1D(32, 4, activation='relu'))\n",
    "# model.add(Dropout(0.01))\n",
    "# model.add(Conv1D(32, 4, activation='relu'))\n",
    "model.add(GlobalMaxPooling1D())\n",
    "model.add(Dense(1, activation='sigmoid'))\n",
    "\n",
    "model.compile(optimizer='adam', loss='binary_crossentropy', metrics=['accuracy'])"
   ]
  },
  {
   "cell_type": "code",
   "execution_count": 9,
   "id": "f7adea33",
   "metadata": {
    "execution": {
     "iopub.execute_input": "2023-03-12T11:43:43.709969Z",
     "iopub.status.busy": "2023-03-12T11:43:43.707736Z",
     "iopub.status.idle": "2023-03-12T11:50:03.539907Z",
     "shell.execute_reply": "2023-03-12T11:50:03.538600Z"
    },
    "papermill": {
     "duration": 379.84253,
     "end_time": "2023-03-12T11:50:03.542616",
     "exception": false,
     "start_time": "2023-03-12T11:43:43.700086",
     "status": "completed"
    },
    "tags": []
   },
   "outputs": [
    {
     "name": "stdout",
     "output_type": "stream",
     "text": [
      "24/24 [==============================] - 49s 2s/step - loss: 0.6707 - accuracy: 0.5956 - val_loss: 0.6534 - val_accuracy: 0.6855\n",
      "48/48 [==============================] - 47s 989ms/step - loss: 0.5970 - accuracy: 0.7033 - val_loss: 0.5821 - val_accuracy: 0.7039\n",
      "96/96 [==============================] - 48s 498ms/step - loss: 0.5217 - accuracy: 0.7442 - val_loss: 0.5829 - val_accuracy: 0.6907\n",
      "Epoch 1/3\n",
      "381/381 [==============================] - 45s 117ms/step - loss: 0.4924 - accuracy: 0.7672 - val_loss: 0.5860 - val_accuracy: 0.7019\n",
      "Epoch 2/3\n",
      "381/381 [==============================] - 44s 116ms/step - loss: 0.4131 - accuracy: 0.8190 - val_loss: 0.6003 - val_accuracy: 0.7262\n",
      "Epoch 3/3\n",
      "381/381 [==============================] - 44s 116ms/step - loss: 0.3403 - accuracy: 0.8586 - val_loss: 0.6366 - val_accuracy: 0.7039\n"
     ]
    },
    {
     "data": {
      "text/plain": [
       "<keras.callbacks.History at 0x7f68e37e1dd0>"
      ]
     },
     "execution_count": 9,
     "metadata": {},
     "output_type": "execute_result"
    }
   ],
   "source": [
    "model.fit(X_train, y_train, validation_data=(X_test, y_test), epochs=1, batch_size=256)\n",
    "model.fit(X_train, y_train, validation_data=(X_test, y_test), epochs=1, batch_size=128)\n",
    "model.fit(X_train, y_train, validation_data=(X_test, y_test), epochs=1, batch_size=64)\n",
    "model.fit(X_train, y_train, validation_data=(X_test, y_test), epochs=3, batch_size=16)\n",
    "# model.fit(X_train, y_train, validation_data=(X_test, y_test), epochs=3, batch_size=256)"
   ]
  },
  {
   "cell_type": "code",
   "execution_count": 10,
   "id": "49db7bda",
   "metadata": {
    "execution": {
     "iopub.execute_input": "2023-03-12T11:50:03.721370Z",
     "iopub.status.busy": "2023-03-12T11:50:03.720956Z",
     "iopub.status.idle": "2023-03-12T11:50:04.247930Z",
     "shell.execute_reply": "2023-03-12T11:50:04.246601Z"
    },
    "papermill": {
     "duration": 0.61987,
     "end_time": "2023-03-12T11:50:04.250750",
     "exception": false,
     "start_time": "2023-03-12T11:50:03.630880",
     "status": "completed"
    },
    "tags": []
   },
   "outputs": [],
   "source": [
    "df_test=pd.read_csv('/kaggle/input/nlp-getting-started/test.csv')\n",
    "df_test['text'].fillna('')\n",
    "df_test['tokenized_text'] = df_test['text'].apply(tokenize_text)"
   ]
  },
  {
   "cell_type": "code",
   "execution_count": 11,
   "id": "976c60bb",
   "metadata": {
    "execution": {
     "iopub.execute_input": "2023-03-12T11:50:04.428615Z",
     "iopub.status.busy": "2023-03-12T11:50:04.428166Z",
     "iopub.status.idle": "2023-03-12T11:50:04.436741Z",
     "shell.execute_reply": "2023-03-12T11:50:04.435455Z"
    },
    "papermill": {
     "duration": 0.100688,
     "end_time": "2023-03-12T11:50:04.439154",
     "exception": false,
     "start_time": "2023-03-12T11:50:04.338466",
     "status": "completed"
    },
    "tags": []
   },
   "outputs": [],
   "source": [
    "X = df_test['tokenized_text'].apply(lambda x: ' '.join(x))"
   ]
  },
  {
   "cell_type": "code",
   "execution_count": 12,
   "id": "3790e55d",
   "metadata": {
    "execution": {
     "iopub.execute_input": "2023-03-12T11:50:04.617899Z",
     "iopub.status.busy": "2023-03-12T11:50:04.617440Z",
     "iopub.status.idle": "2023-03-12T11:50:04.687687Z",
     "shell.execute_reply": "2023-03-12T11:50:04.686406Z"
    },
    "papermill": {
     "duration": 0.163003,
     "end_time": "2023-03-12T11:50:04.690470",
     "exception": false,
     "start_time": "2023-03-12T11:50:04.527467",
     "status": "completed"
    },
    "tags": []
   },
   "outputs": [],
   "source": [
    "encoded_docs = [one_hot(d, vocab_size) for d in X]\n",
    "encoded_docs = pad_sequences(encoded_docs, maxlen=max_len)"
   ]
  },
  {
   "cell_type": "code",
   "execution_count": 13,
   "id": "cbd49cfc",
   "metadata": {
    "execution": {
     "iopub.execute_input": "2023-03-12T11:50:04.869447Z",
     "iopub.status.busy": "2023-03-12T11:50:04.868941Z",
     "iopub.status.idle": "2023-03-12T11:50:08.164996Z",
     "shell.execute_reply": "2023-03-12T11:50:08.163713Z"
    },
    "papermill": {
     "duration": 3.389618,
     "end_time": "2023-03-12T11:50:08.168070",
     "exception": false,
     "start_time": "2023-03-12T11:50:04.778452",
     "status": "completed"
    },
    "tags": []
   },
   "outputs": [
    {
     "name": "stdout",
     "output_type": "stream",
     "text": [
      "102/102 [==============================] - 3s 30ms/step\n"
     ]
    }
   ],
   "source": [
    "model_predict=model.predict(encoded_docs)"
   ]
  },
  {
   "cell_type": "code",
   "execution_count": 14,
   "id": "8104ecbe",
   "metadata": {
    "execution": {
     "iopub.execute_input": "2023-03-12T11:50:08.359337Z",
     "iopub.status.busy": "2023-03-12T11:50:08.358895Z",
     "iopub.status.idle": "2023-03-12T11:50:08.366840Z",
     "shell.execute_reply": "2023-03-12T11:50:08.365563Z"
    },
    "papermill": {
     "duration": 0.107372,
     "end_time": "2023-03-12T11:50:08.369165",
     "exception": false,
     "start_time": "2023-03-12T11:50:08.261793",
     "status": "completed"
    },
    "tags": []
   },
   "outputs": [
    {
     "data": {
      "text/plain": [
       "array([[0.4595131 ],\n",
       "       [0.65242213],\n",
       "       [0.98913074],\n",
       "       ...,\n",
       "       [0.93351024],\n",
       "       [0.5784366 ],\n",
       "       [0.61458385]], dtype=float32)"
      ]
     },
     "execution_count": 14,
     "metadata": {},
     "output_type": "execute_result"
    }
   ],
   "source": [
    "model_predict"
   ]
  },
  {
   "cell_type": "code",
   "execution_count": 15,
   "id": "0e55d1c2",
   "metadata": {
    "execution": {
     "iopub.execute_input": "2023-03-12T11:50:08.556534Z",
     "iopub.status.busy": "2023-03-12T11:50:08.555347Z",
     "iopub.status.idle": "2023-03-12T11:50:08.566062Z",
     "shell.execute_reply": "2023-03-12T11:50:08.565105Z"
    },
    "papermill": {
     "duration": 0.106371,
     "end_time": "2023-03-12T11:50:08.568756",
     "exception": false,
     "start_time": "2023-03-12T11:50:08.462385",
     "status": "completed"
    },
    "tags": []
   },
   "outputs": [],
   "source": [
    "# result=pd.DataFrame({'id': df_test['id'], 'target': [model_predict]})\n",
    "\n",
    "res = pd.DataFrame(model_predict, columns=[\"target\"])\n",
    "res['id']=df_test['id']\n",
    "\n",
    "\n",
    "def convert_to_binary(x):\n",
    "    if x >= 0.5:\n",
    "        return 1\n",
    "    else:\n",
    "        return 0\n",
    "\n",
    "res['target']=res['target'].apply(convert_to_binary)"
   ]
  },
  {
   "cell_type": "code",
   "execution_count": 16,
   "id": "23aaa7ae",
   "metadata": {
    "execution": {
     "iopub.execute_input": "2023-03-12T11:50:08.765800Z",
     "iopub.status.busy": "2023-03-12T11:50:08.764565Z",
     "iopub.status.idle": "2023-03-12T11:50:08.775835Z",
     "shell.execute_reply": "2023-03-12T11:50:08.774377Z"
    },
    "papermill": {
     "duration": 0.118898,
     "end_time": "2023-03-12T11:50:08.779152",
     "exception": false,
     "start_time": "2023-03-12T11:50:08.660254",
     "status": "completed"
    },
    "tags": []
   },
   "outputs": [
    {
     "data": {
      "text/html": [
       "<div>\n",
       "<style scoped>\n",
       "    .dataframe tbody tr th:only-of-type {\n",
       "        vertical-align: middle;\n",
       "    }\n",
       "\n",
       "    .dataframe tbody tr th {\n",
       "        vertical-align: top;\n",
       "    }\n",
       "\n",
       "    .dataframe thead th {\n",
       "        text-align: right;\n",
       "    }\n",
       "</style>\n",
       "<table border=\"1\" class=\"dataframe\">\n",
       "  <thead>\n",
       "    <tr style=\"text-align: right;\">\n",
       "      <th></th>\n",
       "      <th>target</th>\n",
       "      <th>id</th>\n",
       "    </tr>\n",
       "  </thead>\n",
       "  <tbody>\n",
       "    <tr>\n",
       "      <th>0</th>\n",
       "      <td>0</td>\n",
       "      <td>0</td>\n",
       "    </tr>\n",
       "    <tr>\n",
       "      <th>1</th>\n",
       "      <td>1</td>\n",
       "      <td>2</td>\n",
       "    </tr>\n",
       "    <tr>\n",
       "      <th>2</th>\n",
       "      <td>1</td>\n",
       "      <td>3</td>\n",
       "    </tr>\n",
       "    <tr>\n",
       "      <th>3</th>\n",
       "      <td>1</td>\n",
       "      <td>9</td>\n",
       "    </tr>\n",
       "    <tr>\n",
       "      <th>4</th>\n",
       "      <td>1</td>\n",
       "      <td>11</td>\n",
       "    </tr>\n",
       "  </tbody>\n",
       "</table>\n",
       "</div>"
      ],
      "text/plain": [
       "   target  id\n",
       "0       0   0\n",
       "1       1   2\n",
       "2       1   3\n",
       "3       1   9\n",
       "4       1  11"
      ]
     },
     "execution_count": 16,
     "metadata": {},
     "output_type": "execute_result"
    }
   ],
   "source": [
    "res.head()"
   ]
  },
  {
   "cell_type": "code",
   "execution_count": 17,
   "id": "c724144d",
   "metadata": {
    "execution": {
     "iopub.execute_input": "2023-03-12T11:50:08.973080Z",
     "iopub.status.busy": "2023-03-12T11:50:08.972404Z",
     "iopub.status.idle": "2023-03-12T11:50:08.985445Z",
     "shell.execute_reply": "2023-03-12T11:50:08.984382Z"
    },
    "papermill": {
     "duration": 0.111371,
     "end_time": "2023-03-12T11:50:08.988145",
     "exception": false,
     "start_time": "2023-03-12T11:50:08.876774",
     "status": "completed"
    },
    "tags": []
   },
   "outputs": [],
   "source": [
    "res.to_csv('/kaggle/working/submissions_CNN.csv',index=False)"
   ]
  }
 ],
 "metadata": {
  "kernelspec": {
   "display_name": "Python 3",
   "language": "python",
   "name": "python3"
  },
  "language_info": {
   "codemirror_mode": {
    "name": "ipython",
    "version": 3
   },
   "file_extension": ".py",
   "mimetype": "text/x-python",
   "name": "python",
   "nbconvert_exporter": "python",
   "pygments_lexer": "ipython3",
   "version": "3.7.12"
  },
  "papermill": {
   "default_parameters": {},
   "duration": 409.920949,
   "end_time": "2023-03-12T11:50:11.846937",
   "environment_variables": {},
   "exception": null,
   "input_path": "__notebook__.ipynb",
   "output_path": "__notebook__.ipynb",
   "parameters": {},
   "start_time": "2023-03-12T11:43:21.925988",
   "version": "2.4.0"
  }
 },
 "nbformat": 4,
 "nbformat_minor": 5
}
