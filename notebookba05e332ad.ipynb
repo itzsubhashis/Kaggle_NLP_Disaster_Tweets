{
 "cells": [
  {
   "cell_type": "code",
   "execution_count": 1,
   "id": "890d3502",
   "metadata": {
    "_cell_guid": "b1076dfc-b9ad-4769-8c92-a6c4dae69d19",
    "_uuid": "8f2839f25d086af736a60e9eeb907d3b93b6e0e5",
    "execution": {
     "iopub.execute_input": "2023-03-12T05:05:16.195017Z",
     "iopub.status.busy": "2023-03-12T05:05:16.193375Z",
     "iopub.status.idle": "2023-03-12T05:05:16.214440Z",
     "shell.execute_reply": "2023-03-12T05:05:16.212199Z"
    },
    "papermill": {
     "duration": 0.037847,
     "end_time": "2023-03-12T05:05:16.219022",
     "exception": false,
     "start_time": "2023-03-12T05:05:16.181175",
     "status": "completed"
    },
    "tags": []
   },
   "outputs": [
    {
     "name": "stdout",
     "output_type": "stream",
     "text": [
      "/kaggle/input/nlp-getting-started/sample_submission.csv\n",
      "/kaggle/input/nlp-getting-started/train.csv\n",
      "/kaggle/input/nlp-getting-started/test.csv\n"
     ]
    }
   ],
   "source": [
    "# This Python 3 environment comes with many helpful analytics libraries installed\n",
    "# It is defined by the kaggle/python Docker image: https://github.com/kaggle/docker-python\n",
    "# For example, here's several helpful packages to load\n",
    "\n",
    "import numpy as np # linear algebra\n",
    "import pandas as pd # data processing, CSV file I/O (e.g. pd.read_csv)\n",
    "\n",
    "# Input data files are available in the read-only \"../input/\" directory\n",
    "# For example, running this (by clicking run or pressing Shift+Enter) will list all files under the input directory\n",
    "\n",
    "import os\n",
    "for dirname, _, filenames in os.walk('/kaggle/input'):\n",
    "    for filename in filenames:\n",
    "        print(os.path.join(dirname, filename))\n",
    "\n",
    "# You can write up to 20GB to the current directory (/kaggle/working/) that gets preserved as output when you create a version using \"Save & Run All\" \n",
    "# You can also write temporary files to /kaggle/temp/, but they won't be saved outside of the current session"
   ]
  },
  {
   "cell_type": "code",
   "execution_count": 2,
   "id": "5d2561ef",
   "metadata": {
    "execution": {
     "iopub.execute_input": "2023-03-12T05:05:16.233141Z",
     "iopub.status.busy": "2023-03-12T05:05:16.232707Z",
     "iopub.status.idle": "2023-03-12T05:05:16.310998Z",
     "shell.execute_reply": "2023-03-12T05:05:16.309994Z"
    },
    "papermill": {
     "duration": 0.087966,
     "end_time": "2023-03-12T05:05:16.313433",
     "exception": false,
     "start_time": "2023-03-12T05:05:16.225467",
     "status": "completed"
    },
    "tags": []
   },
   "outputs": [
    {
     "data": {
      "text/html": [
       "<div>\n",
       "<style scoped>\n",
       "    .dataframe tbody tr th:only-of-type {\n",
       "        vertical-align: middle;\n",
       "    }\n",
       "\n",
       "    .dataframe tbody tr th {\n",
       "        vertical-align: top;\n",
       "    }\n",
       "\n",
       "    .dataframe thead th {\n",
       "        text-align: right;\n",
       "    }\n",
       "</style>\n",
       "<table border=\"1\" class=\"dataframe\">\n",
       "  <thead>\n",
       "    <tr style=\"text-align: right;\">\n",
       "      <th></th>\n",
       "      <th>id</th>\n",
       "      <th>keyword</th>\n",
       "      <th>location</th>\n",
       "      <th>text</th>\n",
       "      <th>target</th>\n",
       "    </tr>\n",
       "  </thead>\n",
       "  <tbody>\n",
       "    <tr>\n",
       "      <th>0</th>\n",
       "      <td>1</td>\n",
       "      <td>NaN</td>\n",
       "      <td>NaN</td>\n",
       "      <td>Our Deeds are the Reason of this #earthquake M...</td>\n",
       "      <td>1</td>\n",
       "    </tr>\n",
       "    <tr>\n",
       "      <th>1</th>\n",
       "      <td>4</td>\n",
       "      <td>NaN</td>\n",
       "      <td>NaN</td>\n",
       "      <td>Forest fire near La Ronge Sask. Canada</td>\n",
       "      <td>1</td>\n",
       "    </tr>\n",
       "    <tr>\n",
       "      <th>2</th>\n",
       "      <td>5</td>\n",
       "      <td>NaN</td>\n",
       "      <td>NaN</td>\n",
       "      <td>All residents asked to 'shelter in place' are ...</td>\n",
       "      <td>1</td>\n",
       "    </tr>\n",
       "    <tr>\n",
       "      <th>3</th>\n",
       "      <td>6</td>\n",
       "      <td>NaN</td>\n",
       "      <td>NaN</td>\n",
       "      <td>13,000 people receive #wildfires evacuation or...</td>\n",
       "      <td>1</td>\n",
       "    </tr>\n",
       "    <tr>\n",
       "      <th>4</th>\n",
       "      <td>7</td>\n",
       "      <td>NaN</td>\n",
       "      <td>NaN</td>\n",
       "      <td>Just got sent this photo from Ruby #Alaska as ...</td>\n",
       "      <td>1</td>\n",
       "    </tr>\n",
       "  </tbody>\n",
       "</table>\n",
       "</div>"
      ],
      "text/plain": [
       "   id keyword location                                               text  \\\n",
       "0   1     NaN      NaN  Our Deeds are the Reason of this #earthquake M...   \n",
       "1   4     NaN      NaN             Forest fire near La Ronge Sask. Canada   \n",
       "2   5     NaN      NaN  All residents asked to 'shelter in place' are ...   \n",
       "3   6     NaN      NaN  13,000 people receive #wildfires evacuation or...   \n",
       "4   7     NaN      NaN  Just got sent this photo from Ruby #Alaska as ...   \n",
       "\n",
       "   target  \n",
       "0       1  \n",
       "1       1  \n",
       "2       1  \n",
       "3       1  \n",
       "4       1  "
      ]
     },
     "execution_count": 2,
     "metadata": {},
     "output_type": "execute_result"
    }
   ],
   "source": [
    "df=pd.read_csv('/kaggle/input/nlp-getting-started/train.csv')\n",
    "df.head()"
   ]
  },
  {
   "cell_type": "code",
   "execution_count": 3,
   "id": "01d4be35",
   "metadata": {
    "execution": {
     "iopub.execute_input": "2023-03-12T05:05:16.327518Z",
     "iopub.status.busy": "2023-03-12T05:05:16.326882Z",
     "iopub.status.idle": "2023-03-12T05:05:19.846725Z",
     "shell.execute_reply": "2023-03-12T05:05:19.845327Z"
    },
    "papermill": {
     "duration": 3.530335,
     "end_time": "2023-03-12T05:05:19.850028",
     "exception": false,
     "start_time": "2023-03-12T05:05:16.319693",
     "status": "completed"
    },
    "tags": []
   },
   "outputs": [
    {
     "name": "stdout",
     "output_type": "stream",
     "text": [
      "[nltk_data] Downloading package stopwords to /usr/share/nltk_data...\n",
      "[nltk_data]   Package stopwords is already up-to-date!\n",
      "[nltk_data] Downloading package punkt to /usr/share/nltk_data...\n",
      "[nltk_data]   Package punkt is already up-to-date!\n"
     ]
    }
   ],
   "source": [
    "import nltk\n",
    "from nltk.tokenize import word_tokenize\n",
    "from nltk.corpus import stopwords\n",
    "nltk.download('stopwords')\n",
    "nltk.download('punkt')\n",
    "stop_words = set(stopwords.words('english'))\n",
    "def tokenize_text(text):\n",
    "    words = nltk.word_tokenize(text)\n",
    "    filtered_tokens = [word for word in words if not word in stop_words]\n",
    "    return filtered_tokens\n",
    "df['text'].fillna('')\n",
    "df['tokenized_text'] = df['text'].apply(tokenize_text)\n"
   ]
  },
  {
   "cell_type": "code",
   "execution_count": 4,
   "id": "0f0b75db",
   "metadata": {
    "execution": {
     "iopub.execute_input": "2023-03-12T05:05:19.863443Z",
     "iopub.status.busy": "2023-03-12T05:05:19.863009Z",
     "iopub.status.idle": "2023-03-12T05:05:19.880666Z",
     "shell.execute_reply": "2023-03-12T05:05:19.879293Z"
    },
    "papermill": {
     "duration": 0.027494,
     "end_time": "2023-03-12T05:05:19.883464",
     "exception": false,
     "start_time": "2023-03-12T05:05:19.855970",
     "status": "completed"
    },
    "tags": []
   },
   "outputs": [
    {
     "data": {
      "text/html": [
       "<div>\n",
       "<style scoped>\n",
       "    .dataframe tbody tr th:only-of-type {\n",
       "        vertical-align: middle;\n",
       "    }\n",
       "\n",
       "    .dataframe tbody tr th {\n",
       "        vertical-align: top;\n",
       "    }\n",
       "\n",
       "    .dataframe thead th {\n",
       "        text-align: right;\n",
       "    }\n",
       "</style>\n",
       "<table border=\"1\" class=\"dataframe\">\n",
       "  <thead>\n",
       "    <tr style=\"text-align: right;\">\n",
       "      <th></th>\n",
       "      <th>id</th>\n",
       "      <th>keyword</th>\n",
       "      <th>location</th>\n",
       "      <th>text</th>\n",
       "      <th>target</th>\n",
       "      <th>tokenized_text</th>\n",
       "    </tr>\n",
       "  </thead>\n",
       "  <tbody>\n",
       "    <tr>\n",
       "      <th>0</th>\n",
       "      <td>1</td>\n",
       "      <td>NaN</td>\n",
       "      <td>NaN</td>\n",
       "      <td>Our Deeds are the Reason of this #earthquake M...</td>\n",
       "      <td>1</td>\n",
       "      <td>[Our, Deeds, Reason, #, earthquake, May, ALLAH...</td>\n",
       "    </tr>\n",
       "    <tr>\n",
       "      <th>1</th>\n",
       "      <td>4</td>\n",
       "      <td>NaN</td>\n",
       "      <td>NaN</td>\n",
       "      <td>Forest fire near La Ronge Sask. Canada</td>\n",
       "      <td>1</td>\n",
       "      <td>[Forest, fire, near, La, Ronge, Sask, ., Canada]</td>\n",
       "    </tr>\n",
       "    <tr>\n",
       "      <th>2</th>\n",
       "      <td>5</td>\n",
       "      <td>NaN</td>\n",
       "      <td>NaN</td>\n",
       "      <td>All residents asked to 'shelter in place' are ...</td>\n",
       "      <td>1</td>\n",
       "      <td>[All, residents, asked, 'shelter, place, ', no...</td>\n",
       "    </tr>\n",
       "    <tr>\n",
       "      <th>3</th>\n",
       "      <td>6</td>\n",
       "      <td>NaN</td>\n",
       "      <td>NaN</td>\n",
       "      <td>13,000 people receive #wildfires evacuation or...</td>\n",
       "      <td>1</td>\n",
       "      <td>[13,000, people, receive, #, wildfires, evacua...</td>\n",
       "    </tr>\n",
       "    <tr>\n",
       "      <th>4</th>\n",
       "      <td>7</td>\n",
       "      <td>NaN</td>\n",
       "      <td>NaN</td>\n",
       "      <td>Just got sent this photo from Ruby #Alaska as ...</td>\n",
       "      <td>1</td>\n",
       "      <td>[Just, got, sent, photo, Ruby, #, Alaska, smok...</td>\n",
       "    </tr>\n",
       "  </tbody>\n",
       "</table>\n",
       "</div>"
      ],
      "text/plain": [
       "   id keyword location                                               text  \\\n",
       "0   1     NaN      NaN  Our Deeds are the Reason of this #earthquake M...   \n",
       "1   4     NaN      NaN             Forest fire near La Ronge Sask. Canada   \n",
       "2   5     NaN      NaN  All residents asked to 'shelter in place' are ...   \n",
       "3   6     NaN      NaN  13,000 people receive #wildfires evacuation or...   \n",
       "4   7     NaN      NaN  Just got sent this photo from Ruby #Alaska as ...   \n",
       "\n",
       "   target                                     tokenized_text  \n",
       "0       1  [Our, Deeds, Reason, #, earthquake, May, ALLAH...  \n",
       "1       1   [Forest, fire, near, La, Ronge, Sask, ., Canada]  \n",
       "2       1  [All, residents, asked, 'shelter, place, ', no...  \n",
       "3       1  [13,000, people, receive, #, wildfires, evacua...  \n",
       "4       1  [Just, got, sent, photo, Ruby, #, Alaska, smok...  "
      ]
     },
     "execution_count": 4,
     "metadata": {},
     "output_type": "execute_result"
    }
   ],
   "source": [
    "df.head()"
   ]
  },
  {
   "cell_type": "code",
   "execution_count": 5,
   "id": "83b92b4c",
   "metadata": {
    "execution": {
     "iopub.execute_input": "2023-03-12T05:05:19.898075Z",
     "iopub.status.busy": "2023-03-12T05:05:19.896533Z",
     "iopub.status.idle": "2023-03-12T05:05:19.904199Z",
     "shell.execute_reply": "2023-03-12T05:05:19.902727Z"
    },
    "papermill": {
     "duration": 0.01765,
     "end_time": "2023-03-12T05:05:19.907020",
     "exception": false,
     "start_time": "2023-03-12T05:05:19.889370",
     "status": "completed"
    },
    "tags": []
   },
   "outputs": [],
   "source": [
    "from sklearn import feature_extraction, linear_model, model_selection, preprocessing\n",
    "from sklearn.model_selection import train_test_split\n",
    "from sklearn.feature_extraction.text import TfidfVectorizer"
   ]
  },
  {
   "cell_type": "code",
   "execution_count": 6,
   "id": "f6c11834",
   "metadata": {
    "execution": {
     "iopub.execute_input": "2023-03-12T05:05:19.920870Z",
     "iopub.status.busy": "2023-03-12T05:05:19.920402Z",
     "iopub.status.idle": "2023-03-12T05:05:19.934161Z",
     "shell.execute_reply": "2023-03-12T05:05:19.932609Z"
    },
    "papermill": {
     "duration": 0.024098,
     "end_time": "2023-03-12T05:05:19.936902",
     "exception": false,
     "start_time": "2023-03-12T05:05:19.912804",
     "status": "completed"
    },
    "tags": []
   },
   "outputs": [],
   "source": [
    "y=df['target']\n",
    "X = df['tokenized_text'].apply(lambda x: ' '.join(x))"
   ]
  },
  {
   "cell_type": "code",
   "execution_count": 7,
   "id": "a2ae1865",
   "metadata": {
    "execution": {
     "iopub.execute_input": "2023-03-12T05:05:19.950828Z",
     "iopub.status.busy": "2023-03-12T05:05:19.950392Z",
     "iopub.status.idle": "2023-03-12T05:05:20.154171Z",
     "shell.execute_reply": "2023-03-12T05:05:20.152662Z"
    },
    "papermill": {
     "duration": 0.214349,
     "end_time": "2023-03-12T05:05:20.157126",
     "exception": false,
     "start_time": "2023-03-12T05:05:19.942777",
     "status": "completed"
    },
    "tags": []
   },
   "outputs": [],
   "source": [
    "# split the data into train and test\n",
    "X_train, X_test, y_train, y_test = train_test_split(X, y, test_size=0.2, random_state=42)\n",
    "\n",
    "# vectorize the text using TfidfVectorizer\n",
    "vectorizer = TfidfVectorizer()\n",
    "X_train = vectorizer.fit_transform(X_train)\n",
    "X_test = vectorizer.transform(X_test)"
   ]
  },
  {
   "cell_type": "code",
   "execution_count": 8,
   "id": "553a38a3",
   "metadata": {
    "execution": {
     "iopub.execute_input": "2023-03-12T05:05:20.170844Z",
     "iopub.status.busy": "2023-03-12T05:05:20.170405Z",
     "iopub.status.idle": "2023-03-12T05:05:20.197899Z",
     "shell.execute_reply": "2023-03-12T05:05:20.196413Z"
    },
    "papermill": {
     "duration": 0.037986,
     "end_time": "2023-03-12T05:05:20.201011",
     "exception": false,
     "start_time": "2023-03-12T05:05:20.163025",
     "status": "completed"
    },
    "tags": []
   },
   "outputs": [
    {
     "data": {
      "text/plain": [
       "MultinomialNB()"
      ]
     },
     "execution_count": 8,
     "metadata": {},
     "output_type": "execute_result"
    }
   ],
   "source": [
    "from sklearn.naive_bayes import MultinomialNB\n",
    "from sklearn.metrics import accuracy_score\n",
    "clf = MultinomialNB()\n",
    "clf.fit(X_train, y_train)"
   ]
  },
  {
   "cell_type": "code",
   "execution_count": 9,
   "id": "1f60a986",
   "metadata": {
    "execution": {
     "iopub.execute_input": "2023-03-12T05:05:20.217364Z",
     "iopub.status.busy": "2023-03-12T05:05:20.216789Z",
     "iopub.status.idle": "2023-03-12T05:05:20.225381Z",
     "shell.execute_reply": "2023-03-12T05:05:20.223817Z"
    },
    "papermill": {
     "duration": 0.020963,
     "end_time": "2023-03-12T05:05:20.228665",
     "exception": false,
     "start_time": "2023-03-12T05:05:20.207702",
     "status": "completed"
    },
    "tags": []
   },
   "outputs": [
    {
     "name": "stdout",
     "output_type": "stream",
     "text": [
      "Accuracy: 0.8003939592908733\n"
     ]
    }
   ],
   "source": [
    "# make predictions on the test data\n",
    "y_pred = clf.predict(X_test)\n",
    "\n",
    "# evaluate the accuracy of the classifier\n",
    "accuracy = accuracy_score(y_test, y_pred)\n",
    "print('Accuracy:', accuracy)"
   ]
  },
  {
   "cell_type": "code",
   "execution_count": 10,
   "id": "2f7fbf1e",
   "metadata": {
    "execution": {
     "iopub.execute_input": "2023-03-12T05:05:20.243205Z",
     "iopub.status.busy": "2023-03-12T05:05:20.241958Z",
     "iopub.status.idle": "2023-03-12T05:05:20.284983Z",
     "shell.execute_reply": "2023-03-12T05:05:20.283470Z"
    },
    "papermill": {
     "duration": 0.052906,
     "end_time": "2023-03-12T05:05:20.287619",
     "exception": false,
     "start_time": "2023-03-12T05:05:20.234713",
     "status": "completed"
    },
    "tags": []
   },
   "outputs": [
    {
     "data": {
      "text/html": [
       "<div>\n",
       "<style scoped>\n",
       "    .dataframe tbody tr th:only-of-type {\n",
       "        vertical-align: middle;\n",
       "    }\n",
       "\n",
       "    .dataframe tbody tr th {\n",
       "        vertical-align: top;\n",
       "    }\n",
       "\n",
       "    .dataframe thead th {\n",
       "        text-align: right;\n",
       "    }\n",
       "</style>\n",
       "<table border=\"1\" class=\"dataframe\">\n",
       "  <thead>\n",
       "    <tr style=\"text-align: right;\">\n",
       "      <th></th>\n",
       "      <th>id</th>\n",
       "      <th>keyword</th>\n",
       "      <th>location</th>\n",
       "      <th>text</th>\n",
       "    </tr>\n",
       "  </thead>\n",
       "  <tbody>\n",
       "    <tr>\n",
       "      <th>0</th>\n",
       "      <td>0</td>\n",
       "      <td>NaN</td>\n",
       "      <td>NaN</td>\n",
       "      <td>Just happened a terrible car crash</td>\n",
       "    </tr>\n",
       "    <tr>\n",
       "      <th>1</th>\n",
       "      <td>2</td>\n",
       "      <td>NaN</td>\n",
       "      <td>NaN</td>\n",
       "      <td>Heard about #earthquake is different cities, s...</td>\n",
       "    </tr>\n",
       "    <tr>\n",
       "      <th>2</th>\n",
       "      <td>3</td>\n",
       "      <td>NaN</td>\n",
       "      <td>NaN</td>\n",
       "      <td>there is a forest fire at spot pond, geese are...</td>\n",
       "    </tr>\n",
       "    <tr>\n",
       "      <th>3</th>\n",
       "      <td>9</td>\n",
       "      <td>NaN</td>\n",
       "      <td>NaN</td>\n",
       "      <td>Apocalypse lighting. #Spokane #wildfires</td>\n",
       "    </tr>\n",
       "    <tr>\n",
       "      <th>4</th>\n",
       "      <td>11</td>\n",
       "      <td>NaN</td>\n",
       "      <td>NaN</td>\n",
       "      <td>Typhoon Soudelor kills 28 in China and Taiwan</td>\n",
       "    </tr>\n",
       "  </tbody>\n",
       "</table>\n",
       "</div>"
      ],
      "text/plain": [
       "   id keyword location                                               text\n",
       "0   0     NaN      NaN                 Just happened a terrible car crash\n",
       "1   2     NaN      NaN  Heard about #earthquake is different cities, s...\n",
       "2   3     NaN      NaN  there is a forest fire at spot pond, geese are...\n",
       "3   9     NaN      NaN           Apocalypse lighting. #Spokane #wildfires\n",
       "4  11     NaN      NaN      Typhoon Soudelor kills 28 in China and Taiwan"
      ]
     },
     "execution_count": 10,
     "metadata": {},
     "output_type": "execute_result"
    }
   ],
   "source": [
    "#Now apply knowledge for test dataset\n",
    "df_test=pd.read_csv('/kaggle/input/nlp-getting-started/test.csv')\n",
    "df_test.head()"
   ]
  },
  {
   "cell_type": "code",
   "execution_count": 11,
   "id": "adba9392",
   "metadata": {
    "execution": {
     "iopub.execute_input": "2023-03-12T05:05:20.302015Z",
     "iopub.status.busy": "2023-03-12T05:05:20.301620Z",
     "iopub.status.idle": "2023-03-12T05:05:21.040346Z",
     "shell.execute_reply": "2023-03-12T05:05:21.039138Z"
    },
    "papermill": {
     "duration": 0.749504,
     "end_time": "2023-03-12T05:05:21.043282",
     "exception": false,
     "start_time": "2023-03-12T05:05:20.293778",
     "status": "completed"
    },
    "tags": []
   },
   "outputs": [],
   "source": [
    "df_test['text'].fillna('')\n",
    "df_test['tokenized_text'] = df_test['text'].apply(tokenize_text)"
   ]
  },
  {
   "cell_type": "code",
   "execution_count": 12,
   "id": "e0495429",
   "metadata": {
    "execution": {
     "iopub.execute_input": "2023-03-12T05:05:21.057351Z",
     "iopub.status.busy": "2023-03-12T05:05:21.056935Z",
     "iopub.status.idle": "2023-03-12T05:05:21.065382Z",
     "shell.execute_reply": "2023-03-12T05:05:21.064443Z"
    },
    "papermill": {
     "duration": 0.018326,
     "end_time": "2023-03-12T05:05:21.067642",
     "exception": false,
     "start_time": "2023-03-12T05:05:21.049316",
     "status": "completed"
    },
    "tags": []
   },
   "outputs": [],
   "source": [
    "X = df_test['tokenized_text'].apply(lambda x: ' '.join(x))"
   ]
  },
  {
   "cell_type": "code",
   "execution_count": 13,
   "id": "fded2a73",
   "metadata": {
    "execution": {
     "iopub.execute_input": "2023-03-12T05:05:21.082109Z",
     "iopub.status.busy": "2023-03-12T05:05:21.081324Z",
     "iopub.status.idle": "2023-03-12T05:05:21.139734Z",
     "shell.execute_reply": "2023-03-12T05:05:21.138603Z"
    },
    "papermill": {
     "duration": 0.06896,
     "end_time": "2023-03-12T05:05:21.142798",
     "exception": false,
     "start_time": "2023-03-12T05:05:21.073838",
     "status": "completed"
    },
    "tags": []
   },
   "outputs": [],
   "source": [
    "X_test = vectorizer.transform(X)"
   ]
  },
  {
   "cell_type": "code",
   "execution_count": 14,
   "id": "1dc59bf5",
   "metadata": {
    "execution": {
     "iopub.execute_input": "2023-03-12T05:05:21.157126Z",
     "iopub.status.busy": "2023-03-12T05:05:21.156695Z",
     "iopub.status.idle": "2023-03-12T05:05:21.163288Z",
     "shell.execute_reply": "2023-03-12T05:05:21.161890Z"
    },
    "papermill": {
     "duration": 0.017139,
     "end_time": "2023-03-12T05:05:21.166172",
     "exception": false,
     "start_time": "2023-03-12T05:05:21.149033",
     "status": "completed"
    },
    "tags": []
   },
   "outputs": [],
   "source": [
    "y_pred = clf.predict(X_test)"
   ]
  },
  {
   "cell_type": "code",
   "execution_count": 15,
   "id": "1d56316b",
   "metadata": {
    "execution": {
     "iopub.execute_input": "2023-03-12T05:05:21.181695Z",
     "iopub.status.busy": "2023-03-12T05:05:21.180534Z",
     "iopub.status.idle": "2023-03-12T05:05:21.190276Z",
     "shell.execute_reply": "2023-03-12T05:05:21.188975Z"
    },
    "papermill": {
     "duration": 0.020728,
     "end_time": "2023-03-12T05:05:21.193162",
     "exception": false,
     "start_time": "2023-03-12T05:05:21.172434",
     "status": "completed"
    },
    "tags": []
   },
   "outputs": [
    {
     "data": {
      "text/plain": [
       "array([1, 1, 1, ..., 1, 1, 1])"
      ]
     },
     "execution_count": 15,
     "metadata": {},
     "output_type": "execute_result"
    }
   ],
   "source": [
    "y_pred"
   ]
  },
  {
   "cell_type": "code",
   "execution_count": 16,
   "id": "cbe041e8",
   "metadata": {
    "execution": {
     "iopub.execute_input": "2023-03-12T05:05:21.210142Z",
     "iopub.status.busy": "2023-03-12T05:05:21.209086Z",
     "iopub.status.idle": "2023-03-12T05:05:21.216594Z",
     "shell.execute_reply": "2023-03-12T05:05:21.215345Z"
    },
    "papermill": {
     "duration": 0.01834,
     "end_time": "2023-03-12T05:05:21.219226",
     "exception": false,
     "start_time": "2023-03-12T05:05:21.200886",
     "status": "completed"
    },
    "tags": []
   },
   "outputs": [],
   "source": [
    "result=pd.DataFrame({'id': df_test['id'], 'target': y_pred})"
   ]
  },
  {
   "cell_type": "code",
   "execution_count": 17,
   "id": "f21bc961",
   "metadata": {
    "execution": {
     "iopub.execute_input": "2023-03-12T05:05:21.234921Z",
     "iopub.status.busy": "2023-03-12T05:05:21.234334Z",
     "iopub.status.idle": "2023-03-12T05:05:21.246677Z",
     "shell.execute_reply": "2023-03-12T05:05:21.245200Z"
    },
    "papermill": {
     "duration": 0.023904,
     "end_time": "2023-03-12T05:05:21.249387",
     "exception": false,
     "start_time": "2023-03-12T05:05:21.225483",
     "status": "completed"
    },
    "tags": []
   },
   "outputs": [
    {
     "data": {
      "text/html": [
       "<div>\n",
       "<style scoped>\n",
       "    .dataframe tbody tr th:only-of-type {\n",
       "        vertical-align: middle;\n",
       "    }\n",
       "\n",
       "    .dataframe tbody tr th {\n",
       "        vertical-align: top;\n",
       "    }\n",
       "\n",
       "    .dataframe thead th {\n",
       "        text-align: right;\n",
       "    }\n",
       "</style>\n",
       "<table border=\"1\" class=\"dataframe\">\n",
       "  <thead>\n",
       "    <tr style=\"text-align: right;\">\n",
       "      <th></th>\n",
       "      <th>id</th>\n",
       "      <th>target</th>\n",
       "    </tr>\n",
       "  </thead>\n",
       "  <tbody>\n",
       "    <tr>\n",
       "      <th>0</th>\n",
       "      <td>0</td>\n",
       "      <td>1</td>\n",
       "    </tr>\n",
       "    <tr>\n",
       "      <th>1</th>\n",
       "      <td>2</td>\n",
       "      <td>1</td>\n",
       "    </tr>\n",
       "    <tr>\n",
       "      <th>2</th>\n",
       "      <td>3</td>\n",
       "      <td>1</td>\n",
       "    </tr>\n",
       "    <tr>\n",
       "      <th>3</th>\n",
       "      <td>9</td>\n",
       "      <td>1</td>\n",
       "    </tr>\n",
       "    <tr>\n",
       "      <th>4</th>\n",
       "      <td>11</td>\n",
       "      <td>1</td>\n",
       "    </tr>\n",
       "  </tbody>\n",
       "</table>\n",
       "</div>"
      ],
      "text/plain": [
       "   id  target\n",
       "0   0       1\n",
       "1   2       1\n",
       "2   3       1\n",
       "3   9       1\n",
       "4  11       1"
      ]
     },
     "execution_count": 17,
     "metadata": {},
     "output_type": "execute_result"
    }
   ],
   "source": [
    "result.head()"
   ]
  },
  {
   "cell_type": "code",
   "execution_count": 18,
   "id": "d9d0f0a6",
   "metadata": {
    "execution": {
     "iopub.execute_input": "2023-03-12T05:05:21.264605Z",
     "iopub.status.busy": "2023-03-12T05:05:21.264142Z",
     "iopub.status.idle": "2023-03-12T05:05:21.280595Z",
     "shell.execute_reply": "2023-03-12T05:05:21.279008Z"
    },
    "papermill": {
     "duration": 0.027473,
     "end_time": "2023-03-12T05:05:21.283735",
     "exception": false,
     "start_time": "2023-03-12T05:05:21.256262",
     "status": "completed"
    },
    "tags": []
   },
   "outputs": [],
   "source": [
    "result.to_csv('/kaggle/working/submissions.csv',index=False)"
   ]
  }
 ],
 "metadata": {
  "kernelspec": {
   "display_name": "Python 3",
   "language": "python",
   "name": "python3"
  },
  "language_info": {
   "codemirror_mode": {
    "name": "ipython",
    "version": 3
   },
   "file_extension": ".py",
   "mimetype": "text/x-python",
   "name": "python",
   "nbconvert_exporter": "python",
   "pygments_lexer": "ipython3",
   "version": "3.7.12"
  },
  "papermill": {
   "default_parameters": {},
   "duration": 16.351924,
   "end_time": "2023-03-12T05:05:22.314992",
   "environment_variables": {},
   "exception": null,
   "input_path": "__notebook__.ipynb",
   "output_path": "__notebook__.ipynb",
   "parameters": {},
   "start_time": "2023-03-12T05:05:05.963068",
   "version": "2.4.0"
  }
 },
 "nbformat": 4,
 "nbformat_minor": 5
}
